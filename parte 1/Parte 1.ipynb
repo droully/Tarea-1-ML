{
 "cells": [
  {
   "cell_type": "markdown",
   "metadata": {},
   "source": [
    "<img src=\"http://www.exalumnos.usm.cl/wp-content/uploads/2015/06/Isotipo-Negro.gif\" title=\"Title text\" width=\"20%\" height=\"20%\" />\n",
    "\n",
    "\n",
    "<hr style=\"height:2px;border:none\"/>\n",
    "<h1 align='center'> INF-393 Máquinas de Aprendizaje II-2018 </h1>\n",
    "\n",
    "<H3 align='center'> Tarea 1 - Introducción a Máquinas de Aprendizaje </H3>\n",
    "<hr style=\"height:2px;border:none\"/>\n",
    "<H3 align='center'> Ignacio Pinedo </H3>\n",
    "\n",
    "## 1. Aprendizaje con regresión lineal.\n",
    ">a) Cargue los datos a analizar, descargándolos desde la plataforma como se indicó, en formato dataframe pandas. Descríbalos adecuadamente, ya sea la variable dependiente o las independientes, si es que lo son.\n"
   ]
  },
  {
   "cell_type": "code",
   "execution_count": 2,
   "metadata": {
    "scrolled": true
   },
   "outputs": [
    {
     "name": "stdout",
     "output_type": "stream",
     "text": [
      "(2603, 14)\n"
     ]
    },
    {
     "data": {
      "text/html": [
       "<div>\n",
       "<style scoped>\n",
       "    .dataframe tbody tr th:only-of-type {\n",
       "        vertical-align: middle;\n",
       "    }\n",
       "\n",
       "    .dataframe tbody tr th {\n",
       "        vertical-align: top;\n",
       "    }\n",
       "\n",
       "    .dataframe thead th {\n",
       "        text-align: right;\n",
       "    }\n",
       "</style>\n",
       "<table border=\"1\" class=\"dataframe\">\n",
       "  <thead>\n",
       "    <tr style=\"text-align: right;\">\n",
       "      <th></th>\n",
       "      <th>world_rank</th>\n",
       "      <th>university_name</th>\n",
       "      <th>country</th>\n",
       "      <th>teaching</th>\n",
       "      <th>international</th>\n",
       "      <th>research</th>\n",
       "      <th>citations</th>\n",
       "      <th>income</th>\n",
       "      <th>total_score</th>\n",
       "      <th>num_students</th>\n",
       "      <th>student_staff_ratio</th>\n",
       "      <th>international_students</th>\n",
       "      <th>female_male_ratio</th>\n",
       "      <th>year</th>\n",
       "    </tr>\n",
       "  </thead>\n",
       "  <tbody>\n",
       "    <tr>\n",
       "      <th>0</th>\n",
       "      <td>1</td>\n",
       "      <td>Harvard University</td>\n",
       "      <td>United States of America</td>\n",
       "      <td>99.7</td>\n",
       "      <td>72.4</td>\n",
       "      <td>98.7</td>\n",
       "      <td>98.8</td>\n",
       "      <td>34.5</td>\n",
       "      <td>96.1</td>\n",
       "      <td>20,152</td>\n",
       "      <td>8.9</td>\n",
       "      <td>25%</td>\n",
       "      <td>NaN</td>\n",
       "      <td>2011</td>\n",
       "    </tr>\n",
       "    <tr>\n",
       "      <th>1</th>\n",
       "      <td>2</td>\n",
       "      <td>California Institute of Technology</td>\n",
       "      <td>United States of America</td>\n",
       "      <td>97.7</td>\n",
       "      <td>54.6</td>\n",
       "      <td>98.0</td>\n",
       "      <td>99.9</td>\n",
       "      <td>83.7</td>\n",
       "      <td>96.0</td>\n",
       "      <td>2,243</td>\n",
       "      <td>6.9</td>\n",
       "      <td>27%</td>\n",
       "      <td>33 : 67</td>\n",
       "      <td>2011</td>\n",
       "    </tr>\n",
       "    <tr>\n",
       "      <th>2</th>\n",
       "      <td>3</td>\n",
       "      <td>Massachusetts Institute of Technology</td>\n",
       "      <td>United States of America</td>\n",
       "      <td>97.8</td>\n",
       "      <td>82.3</td>\n",
       "      <td>91.4</td>\n",
       "      <td>99.9</td>\n",
       "      <td>87.5</td>\n",
       "      <td>95.6</td>\n",
       "      <td>11,074</td>\n",
       "      <td>9.0</td>\n",
       "      <td>33%</td>\n",
       "      <td>37 : 63</td>\n",
       "      <td>2011</td>\n",
       "    </tr>\n",
       "    <tr>\n",
       "      <th>3</th>\n",
       "      <td>4</td>\n",
       "      <td>Stanford University</td>\n",
       "      <td>United States of America</td>\n",
       "      <td>98.3</td>\n",
       "      <td>29.5</td>\n",
       "      <td>98.1</td>\n",
       "      <td>99.2</td>\n",
       "      <td>64.3</td>\n",
       "      <td>94.3</td>\n",
       "      <td>15,596</td>\n",
       "      <td>7.8</td>\n",
       "      <td>22%</td>\n",
       "      <td>42 : 58</td>\n",
       "      <td>2011</td>\n",
       "    </tr>\n",
       "    <tr>\n",
       "      <th>4</th>\n",
       "      <td>5</td>\n",
       "      <td>Princeton University</td>\n",
       "      <td>United States of America</td>\n",
       "      <td>90.9</td>\n",
       "      <td>70.3</td>\n",
       "      <td>95.4</td>\n",
       "      <td>99.9</td>\n",
       "      <td>-</td>\n",
       "      <td>94.2</td>\n",
       "      <td>7,929</td>\n",
       "      <td>8.4</td>\n",
       "      <td>27%</td>\n",
       "      <td>45 : 55</td>\n",
       "      <td>2011</td>\n",
       "    </tr>\n",
       "  </tbody>\n",
       "</table>\n",
       "</div>"
      ],
      "text/plain": [
       "  world_rank                        university_name                   country  \\\n",
       "0          1                     Harvard University  United States of America   \n",
       "1          2     California Institute of Technology  United States of America   \n",
       "2          3  Massachusetts Institute of Technology  United States of America   \n",
       "3          4                    Stanford University  United States of America   \n",
       "4          5                   Princeton University  United States of America   \n",
       "\n",
       "   teaching international  research  citations income total_score  \\\n",
       "0      99.7          72.4      98.7       98.8   34.5        96.1   \n",
       "1      97.7          54.6      98.0       99.9   83.7        96.0   \n",
       "2      97.8          82.3      91.4       99.9   87.5        95.6   \n",
       "3      98.3          29.5      98.1       99.2   64.3        94.3   \n",
       "4      90.9          70.3      95.4       99.9      -        94.2   \n",
       "\n",
       "  num_students  student_staff_ratio international_students female_male_ratio  \\\n",
       "0       20,152                  8.9                    25%               NaN   \n",
       "1        2,243                  6.9                    27%           33 : 67   \n",
       "2       11,074                  9.0                    33%           37 : 63   \n",
       "3       15,596                  7.8                    22%           42 : 58   \n",
       "4        7,929                  8.4                    27%           45 : 55   \n",
       "\n",
       "   year  \n",
       "0  2011  \n",
       "1  2011  \n",
       "2  2011  \n",
       "3  2011  \n",
       "4  2011  "
      ]
     },
     "execution_count": 2,
     "metadata": {},
     "output_type": "execute_result"
    }
   ],
   "source": [
    "import pandas as pd\n",
    "import numpy as np\n",
    "df = pd.read_csv(\"world-university-rankings/timesData.csv\")\n",
    "print(df.shape)\n",
    "df.head()"
   ]
  },
  {
   "cell_type": "markdown",
   "metadata": {},
   "source": [
    "Son 2603 universidades con los siguiente atributos.\n",
    "* Las variables independientes son:\n",
    "    * country: Pais\n",
    "    * teaching: Puntaje de enseñanza\n",
    "    * international: Puntaje de perspectiva internacional\n",
    "    * research: Puntaje de investigacion\n",
    "    * citations: Puntaje de referencias\n",
    "    * income: Puntaje de ingresos en la industria\n",
    "    * num_students: Total de estudiantes\n",
    "    * student_staff_ratio: Total de estudiantes dividido por el total de personal\n",
    "    * international_students: Porcentaje de estudiantes extranjeros\n",
    "    * female_male_ratio: Razon entre hombres y mujeres en el alumnado\n",
    "    * year: Año del ranking\n",
    "    \n",
    "    \n",
    "* Las variables dependientes son:\n",
    "    * university_name: Nombre de la universidad\n",
    "    * total_score: Promedio ponderado de los puntajes utilizado para determinar el ranking\n",
    "    * world_rank: Ranking de la universidad \n",
    "    \n",
    "    \n",
    "Es importante notar que solo se trabajara con el total_score, ya que world_rank tiene la misma informacion, simplemente ordenado y university_name es solo un indicador."
   ]
  },
  {
   "cell_type": "markdown",
   "metadata": {},
   "source": [
    ">b) Debido a la estructura será necesario realizar un leve pre-proceso. Existen vacíos entre los datos o valores '-', por lo que será necesario eliminarlos (o si piensa una mejor manera de manejar ésto puede hacerlo, se verá reflejado en su nota). Además de ésto deje los datos con score unkown o '-' en un conjunto target separado, unlabeled data (éste será el objetivo del entrenamiento) ¿Cuántos datos quedan en cada conjunto? "
   ]
  },
  {
   "cell_type": "code",
   "execution_count": 3,
   "metadata": {},
   "outputs": [
    {
     "name": "stdout",
     "output_type": "stream",
     "text": [
      "(1220, 82)\n",
      "(954, 82)\n"
     ]
    },
    {
     "data": {
      "text/html": [
       "<div>\n",
       "<style scoped>\n",
       "    .dataframe tbody tr th:only-of-type {\n",
       "        vertical-align: middle;\n",
       "    }\n",
       "\n",
       "    .dataframe tbody tr th {\n",
       "        vertical-align: top;\n",
       "    }\n",
       "\n",
       "    .dataframe thead th {\n",
       "        text-align: right;\n",
       "    }\n",
       "</style>\n",
       "<table border=\"1\" class=\"dataframe\">\n",
       "  <thead>\n",
       "    <tr style=\"text-align: right;\">\n",
       "      <th></th>\n",
       "      <th>world_rank</th>\n",
       "      <th>university_name</th>\n",
       "      <th>teaching</th>\n",
       "      <th>international</th>\n",
       "      <th>research</th>\n",
       "      <th>citations</th>\n",
       "      <th>income</th>\n",
       "      <th>total_score</th>\n",
       "      <th>num_students</th>\n",
       "      <th>student_staff_ratio</th>\n",
       "      <th>...</th>\n",
       "      <th>country_Taiwan</th>\n",
       "      <th>country_Thailand</th>\n",
       "      <th>country_Turkey</th>\n",
       "      <th>country_Uganda</th>\n",
       "      <th>country_Ukraine</th>\n",
       "      <th>country_United Arab Emirates</th>\n",
       "      <th>country_United Kingdom</th>\n",
       "      <th>country_United States of America</th>\n",
       "      <th>female</th>\n",
       "      <th>male</th>\n",
       "    </tr>\n",
       "  </thead>\n",
       "  <tbody>\n",
       "    <tr>\n",
       "      <th>1</th>\n",
       "      <td>2</td>\n",
       "      <td>California Institute of Technology</td>\n",
       "      <td>97.7</td>\n",
       "      <td>54.6</td>\n",
       "      <td>98.0</td>\n",
       "      <td>99.9</td>\n",
       "      <td>83.7</td>\n",
       "      <td>96.0</td>\n",
       "      <td>2243</td>\n",
       "      <td>6.9</td>\n",
       "      <td>...</td>\n",
       "      <td>0</td>\n",
       "      <td>0</td>\n",
       "      <td>0</td>\n",
       "      <td>0</td>\n",
       "      <td>0</td>\n",
       "      <td>0</td>\n",
       "      <td>0</td>\n",
       "      <td>1</td>\n",
       "      <td>33</td>\n",
       "      <td>67</td>\n",
       "    </tr>\n",
       "    <tr>\n",
       "      <th>2</th>\n",
       "      <td>3</td>\n",
       "      <td>Massachusetts Institute of Technology</td>\n",
       "      <td>97.8</td>\n",
       "      <td>82.3</td>\n",
       "      <td>91.4</td>\n",
       "      <td>99.9</td>\n",
       "      <td>87.5</td>\n",
       "      <td>95.6</td>\n",
       "      <td>11074</td>\n",
       "      <td>9.0</td>\n",
       "      <td>...</td>\n",
       "      <td>0</td>\n",
       "      <td>0</td>\n",
       "      <td>0</td>\n",
       "      <td>0</td>\n",
       "      <td>0</td>\n",
       "      <td>0</td>\n",
       "      <td>0</td>\n",
       "      <td>1</td>\n",
       "      <td>37</td>\n",
       "      <td>63</td>\n",
       "    </tr>\n",
       "    <tr>\n",
       "      <th>3</th>\n",
       "      <td>4</td>\n",
       "      <td>Stanford University</td>\n",
       "      <td>98.3</td>\n",
       "      <td>29.5</td>\n",
       "      <td>98.1</td>\n",
       "      <td>99.2</td>\n",
       "      <td>64.3</td>\n",
       "      <td>94.3</td>\n",
       "      <td>15596</td>\n",
       "      <td>7.8</td>\n",
       "      <td>...</td>\n",
       "      <td>0</td>\n",
       "      <td>0</td>\n",
       "      <td>0</td>\n",
       "      <td>0</td>\n",
       "      <td>0</td>\n",
       "      <td>0</td>\n",
       "      <td>0</td>\n",
       "      <td>1</td>\n",
       "      <td>42</td>\n",
       "      <td>58</td>\n",
       "    </tr>\n",
       "    <tr>\n",
       "      <th>5</th>\n",
       "      <td>6</td>\n",
       "      <td>University of Cambridge</td>\n",
       "      <td>90.5</td>\n",
       "      <td>77.7</td>\n",
       "      <td>94.1</td>\n",
       "      <td>94.0</td>\n",
       "      <td>57.0</td>\n",
       "      <td>91.2</td>\n",
       "      <td>18812</td>\n",
       "      <td>11.8</td>\n",
       "      <td>...</td>\n",
       "      <td>0</td>\n",
       "      <td>0</td>\n",
       "      <td>0</td>\n",
       "      <td>0</td>\n",
       "      <td>0</td>\n",
       "      <td>0</td>\n",
       "      <td>1</td>\n",
       "      <td>0</td>\n",
       "      <td>46</td>\n",
       "      <td>54</td>\n",
       "    </tr>\n",
       "    <tr>\n",
       "      <th>6</th>\n",
       "      <td>6</td>\n",
       "      <td>University of Oxford</td>\n",
       "      <td>88.2</td>\n",
       "      <td>77.2</td>\n",
       "      <td>93.9</td>\n",
       "      <td>95.1</td>\n",
       "      <td>73.5</td>\n",
       "      <td>91.2</td>\n",
       "      <td>19919</td>\n",
       "      <td>11.6</td>\n",
       "      <td>...</td>\n",
       "      <td>0</td>\n",
       "      <td>0</td>\n",
       "      <td>0</td>\n",
       "      <td>0</td>\n",
       "      <td>0</td>\n",
       "      <td>0</td>\n",
       "      <td>1</td>\n",
       "      <td>0</td>\n",
       "      <td>46</td>\n",
       "      <td>54</td>\n",
       "    </tr>\n",
       "  </tbody>\n",
       "</table>\n",
       "<p>5 rows × 82 columns</p>\n",
       "</div>"
      ],
      "text/plain": [
       "  world_rank                        university_name  teaching international  \\\n",
       "1          2     California Institute of Technology      97.7          54.6   \n",
       "2          3  Massachusetts Institute of Technology      97.8          82.3   \n",
       "3          4                    Stanford University      98.3          29.5   \n",
       "5          6                University of Cambridge      90.5          77.7   \n",
       "6          6                   University of Oxford      88.2          77.2   \n",
       "\n",
       "   research  citations income total_score  num_students  student_staff_ratio  \\\n",
       "1      98.0       99.9   83.7        96.0          2243                  6.9   \n",
       "2      91.4       99.9   87.5        95.6         11074                  9.0   \n",
       "3      98.1       99.2   64.3        94.3         15596                  7.8   \n",
       "5      94.1       94.0   57.0        91.2         18812                 11.8   \n",
       "6      93.9       95.1   73.5        91.2         19919                 11.6   \n",
       "\n",
       "   ...   country_Taiwan  country_Thailand  country_Turkey  country_Uganda  \\\n",
       "1  ...                0                 0               0               0   \n",
       "2  ...                0                 0               0               0   \n",
       "3  ...                0                 0               0               0   \n",
       "5  ...                0                 0               0               0   \n",
       "6  ...                0                 0               0               0   \n",
       "\n",
       "   country_Ukraine  country_United Arab Emirates  country_United Kingdom  \\\n",
       "1                0                             0                       0   \n",
       "2                0                             0                       0   \n",
       "3                0                             0                       0   \n",
       "5                0                             0                       1   \n",
       "6                0                             0                       1   \n",
       "\n",
       "   country_United States of America  female  male  \n",
       "1                                 1      33    67  \n",
       "2                                 1      37    63  \n",
       "3                                 1      42    58  \n",
       "5                                 0      46    54  \n",
       "6                                 0      46    54  \n",
       "\n",
       "[5 rows x 82 columns]"
      ]
     },
     "execution_count": 3,
     "metadata": {},
     "output_type": "execute_result"
    }
   ],
   "source": [
    "def convertToInt(x):\n",
    "    try:\n",
    "        x = int(x)\n",
    "    except:\n",
    "        x = 0\n",
    "    return x\n",
    "df.dropna(axis=0,inplace=True,how='any') #borra nan\n",
    "df[\"total_score\"] = df[\"total_score\"].apply(lambda x: x.replace('-','unknown')) #rellena \n",
    "df = df[~(df == '-').any(axis=1)] #elimina filas con valores nulos\n",
    "\n",
    "nuevo_df  = pd.get_dummies(df, columns=[\"country\"]) #column to categorical\n",
    "\n",
    "nuevo_df['female'] = nuevo_df['female_male_ratio'].str.split(':', expand=True)[0].apply(convertToInt)\n",
    "nuevo_df['male'] = nuevo_df['female_male_ratio'].str.split(':', expand=True)[1].apply(convertToInt)\n",
    "nuevo_df['female_male_ratio'] =  np.where(nuevo_df['male'] == 0, 0, nuevo_df['female']/nuevo_df['male']) #si no hay (rellena 0) \n",
    "nuevo_df['num_students'] = nuevo_df['num_students'].apply(lambda x: int(str(x).replace(',','')))\n",
    "nuevo_df['international_students'] = nuevo_df['international_students'].apply(lambda x: int(str(x).replace('%','')))\n",
    "\n",
    "\n",
    "df_test = nuevo_df[nuevo_df[\"total_score\"]=='unknown']  #para predecir al final\n",
    "nuevo_df =  nuevo_df[nuevo_df[\"total_score\"]!='unknown'] #elimina unknown rank..\n",
    "print(df_test.shape)\n",
    "print(nuevo_df.shape)\n",
    "\n",
    "nuevo_df.head()"
   ]
  },
  {
   "cell_type": "markdown",
   "metadata": {},
   "source": [
    "Quedan 954 datos con los que se trabajaran y 1220 datos objetivo. Una forma de arreglar los valores perdidos es hacer otra regresion que los estime a partir de los valores que si estan."
   ]
  },
  {
   "cell_type": "markdown",
   "metadata": {},
   "source": [
    ">c) Cree las matrices de cada conjunto con las que trabajará. Además de ésto separe el conjunto de pruebas fijo que se utilizará, recuerde que éste no puede ser utilizado. Si estima conveniente también cree conjunto de validación."
   ]
  },
  {
   "cell_type": "code",
   "execution_count": 67,
   "metadata": {},
   "outputs": [],
   "source": [
    "Y = nuevo_df['total_score'].values\n",
    "X = nuevo_df.drop([\"total_score\",\"world_rank\",\"university_name\"],axis=1).values\n",
    "Y = Y.astype('float32')\n",
    "X = X.astype('float32')\n",
    "X.shape\n",
    "from sklearn.model_selection import train_test_split\n",
    "X_train, X_test, y_train, y_test = train_test_split(X, Y, test_size=0.3, random_state=42)"
   ]
  },
  {
   "cell_type": "markdown",
   "metadata": {},
   "source": [
    ">d) Normalice los datos antes de trabajar. Explique la importancia/conveniencia de realizar ésto."
   ]
  },
  {
   "cell_type": "code",
   "execution_count": 68,
   "metadata": {},
   "outputs": [],
   "source": [
    "from sklearn.preprocessing import StandardScaler\n",
    "scaler = StandardScaler(with_mean=True, with_std=True)\n",
    "scaler.fit(X_train)\n",
    "X_train_scaled = scaler.transform(X_train)\n",
    "X_test_scaled = scaler.transform(X_test)"
   ]
  },
  {
   "cell_type": "markdown",
   "metadata": {},
   "source": [
    "Es importante normalizar los datos ya que los hace mas consistentes, elimina el sesgo y permite mejores resultados de convergencia debido a que se trabaja con la norma euclidiana."
   ]
  },
  {
   "cell_type": "markdown",
   "metadata": {},
   "source": [
    ">e) Realice una regresión lineal de mı́nimos cuadrados básica. Mida el residuo de cada predicción en cada dato y haga un gráfico de éste ¿Qué indica lo observado?"
   ]
  },
  {
   "cell_type": "code",
   "execution_count": 69,
   "metadata": {},
   "outputs": [
    {
     "name": "stderr",
     "output_type": "stream",
     "text": [
      "C:\\Users\\Ignacio\\Anaconda3\\lib\\site-packages\\matplotlib\\axes\\_axes.py:6462: UserWarning: The 'normed' kwarg is deprecated, and has been replaced by the 'density' kwarg.\n",
      "  warnings.warn(\"The 'normed' kwarg is deprecated, and has been \"\n",
      "C:\\Users\\Ignacio\\Anaconda3\\lib\\site-packages\\matplotlib\\axes\\_axes.py:6462: UserWarning: The 'normed' kwarg is deprecated, and has been replaced by the 'density' kwarg.\n",
      "  warnings.warn(\"The 'normed' kwarg is deprecated, and has been \"\n"
     ]
    },
    {
     "data": {
      "image/png": "[encoded data removed]",
      "text/plain": [
       "<Figure size 432x288 with 1 Axes>"
      ]
     },
     "metadata": {},
     "output_type": "display_data"
    }
   ],
   "source": [
    "from sklearn.linear_model import LinearRegression as LR\n",
    "\n",
    "import matplotlib.pyplot as plt\n",
    "\n",
    "linreg = LR(fit_intercept=True, n_jobs=1)\n",
    "linreg.fit(X_train_scaled,y_train)\n",
    "\n",
    "import seaborn as sns\n",
    "res_train = y_train-linreg.predict(X_train_scaled)\n",
    "res_test = y_test-linreg.predict(X_test_scaled)\n",
    "sns.distplot(res_train,hist=True,label=\"Train\")\n",
    "sns.distplot(res_test,hist=True,label=\"Test\")\n",
    "plt.legend();"
   ]
  },
  {
   "cell_type": "markdown",
   "metadata": {},
   "source": [
    "Este es un grafico del la distribuccion del error, ya que los datos estan acumulados en el 0, entre \\[-0.5,0.5\\] aproximadamente, se concluye que se modela correctamente el ranking. A pesar que paresca visualmente una distribucion normal, se necesita hacer un test normalidad para confirmarlo. "
   ]
  },
  {
   "cell_type": "markdown",
   "metadata": {},
   "source": [
    ">f) Construya una tabla con los pesos, Z-score y F-score correspondientes a cada predictor (variable), compare estos valores. ¿Qué sucede si hacemos un raking de los atributos en base al peso obtenido en la regresión? Compare y comente ¿Qué variables están más correlacionadas con la respuesta? Si usáramos un nivel de significación del 5%. ¿Qué es lo que observa y cuál puede ser la causa?"
   ]
  },
  {
   "cell_type": "code",
   "execution_count": 88,
   "metadata": {
    "scrolled": true
   },
   "outputs": [
    {
     "name": "stdout",
     "output_type": "stream",
     "text": [
      "Mejores F-score:\n",
      "teaching 3101.7622181926713\n",
      "research 3093.031966906267\n",
      "citations 330.1689962686734\n",
      "country_United States of America 77.03440288652178\n",
      "student_staff_ratio 56.04563336641209\n"
     ]
    },
    {
     "name": "stderr",
     "output_type": "stream",
     "text": [
      "C:\\Users\\Ignacio\\Anaconda3\\lib\\site-packages\\sklearn\\feature_selection\\univariate_selection.py:298: RuntimeWarning: invalid value encountered in true_divide\n",
      "  corr /= X_norms\n",
      "C:\\Users\\Ignacio\\Anaconda3\\lib\\site-packages\\scipy\\stats\\_distn_infrastructure.py:879: RuntimeWarning: invalid value encountered in greater\n",
      "  return (self.a < x) & (x < self.b)\n",
      "C:\\Users\\Ignacio\\Anaconda3\\lib\\site-packages\\scipy\\stats\\_distn_infrastructure.py:879: RuntimeWarning: invalid value encountered in less\n",
      "  return (self.a < x) & (x < self.b)\n",
      "C:\\Users\\Ignacio\\Anaconda3\\lib\\site-packages\\scipy\\stats\\_distn_infrastructure.py:1821: RuntimeWarning: invalid value encountered in less_equal\n",
      "  cond2 = cond0 & (x <= self.a)\n"
     ]
    }
   ],
   "source": [
    "from scipy.stats import pearsonr\n",
    "from sklearn import feature_selection\n",
    "linreg.score(X_train_scaled,y_train)\n",
    "\n",
    "f_test,pval=feature_selection.f_regression( X_train_scaled, y_train)\n",
    "f=list(f_test)\n",
    "f_test.sort()\n",
    "f_test=reversed(f_test)\n",
    "f_test=[x for x in f_test if str(x) != 'nan']\n",
    "\n",
    "palf= nuevo_df.drop([\"total_score\",\"world_rank\",\"university_name\"],axis=1)\n",
    "print(\"Mejores F-score:\")\n",
    "for i in range(len(f_test[:5])):\n",
    "    print(palf.columns[f.index(f_test[:5][i])],f_test[:5][i])\n",
    "    "
   ]
  },
  {
   "cell_type": "markdown",
   "metadata": {},
   "source": [
    "A partir de los mejores F-Scores, se concluye que las variables que estan mas correlacionadas son: teaching, research, citations, country_United States of America, student_staff_ratio"
   ]
  },
  {
   "cell_type": "markdown",
   "metadata": {},
   "source": [
    ">g) Calcule la información mútua de los distintos predictores (variables) con respecto a la variable output o target. Comente con lo calculado anteriormente y se le parece razonable."
   ]
  },
  {
   "cell_type": "code",
   "execution_count": 90,
   "metadata": {
    "scrolled": true
   },
   "outputs": [
    {
     "name": "stdout",
     "output_type": "stream",
     "text": [
      "Mejores F-score:\n",
      "research 0.9253861426555408\n",
      "teaching 0.8933260218405241\n",
      "female_male_ratio 0.31974489105694515\n",
      "female 0.2977461938104078\n",
      "citations 0.2970890910753483\n"
     ]
    }
   ],
   "source": [
    "from sklearn.feature_selection import mutual_info_regression\n",
    "minfo= mutual_info_regression(X_train_scaled,y_train)\n",
    "\n",
    "\n",
    "minfoo=list(minfo)\n",
    "minfo.sort()\n",
    "minfo=reversed(minfo)\n",
    "minfo=[x for x in minfo if str(x) != 'nan']\n",
    "\n",
    "palf= nuevo_df.drop([\"total_score\",\"world_rank\",\"university_name\"],axis=1)\n",
    "print(\"Mejores informacion muta:\")\n",
    "for i in range(len(minfo[:5])):\n",
    "    print(palf.columns[minfoo.index(minfo[:5][i])],minfo[:5][i])\n"
   ]
  },
  {
   "cell_type": "markdown",
   "metadata": {},
   "source": [
    "A partir de las mejores informaciones mutas, se concluye que las variables que estan mas correlacionadas son: research, teaching , female_male_ratio, female, citations. Lo que parece coherente en comparacion al resultado anterior, en especial el hecho que research, teaching y citations que deberian afectar en la calidad de una universidad."
   ]
  },
  {
   "cell_type": "markdown",
   "metadata": {},
   "source": [
    ">h) Construya una función que implemente Forward Step-wise Selection (FSS). Es decir, partiendo con un modelo sin predictores (variables), agregue un predictor a la vez, re-ajustando el modelo de regresión en cada paso. Para seleccionar localmente una variable, proponga/implemente un criterio distinto al utilizado en el código de ejemplo. Construya un gráfico que muestre el error de entrenamiento y el error de pruebas como función del número de variables en el modelo. Ordene el eje x de menor a mayor."
   ]
  },
  {
   "cell_type": "code",
   "execution_count": 93,
   "metadata": {},
   "outputs": [
    {
     "name": "stdout",
     "output_type": "stream",
     "text": [
      "['teaching', 'citations', 'research', 'international']\n"
     ]
    },
    {
     "data": {
      "image/png": "[encoded data removed]",
      "text/plain": [
       "<Figure size 432x288 with 1 Axes>"
      ]
     },
     "metadata": {},
     "output_type": "display_data"
    }
   ],
   "source": [
    "def fss(x, y, names_x, k = 100):\n",
    "    p = x.shape[1]-1\n",
    "    k = min(p, k)\n",
    "    names_x = np.array(names_x)\n",
    "    remaining = list(range(0, p))\n",
    "    selected = []\n",
    "    current_score = best_new_score = 0.0\n",
    "    hist=[]\n",
    "    while remaining and len(selected)<=k :\n",
    "        score_candidates = []\n",
    "        for candidate in remaining:\n",
    "            model = LR(fit_intercept=True, n_jobs=1)\n",
    "            indexes = selected + [candidate]\n",
    "            x_train = x[:,indexes]\n",
    "            predictions_train = model.fit(x_train, y).predict(x_train)\n",
    "            residuals_train = predictions_train - y\n",
    "            mse_candidate = np.mean(np.power(residuals_train, 2))\n",
    "            score_candidates.append((mse_candidate, candidate))\n",
    "        score_candidates.sort()\n",
    "        score_candidates[:] = score_candidates[::-1]\n",
    "        best_new_score, best_candidate = score_candidates.pop()\n",
    "        remaining.remove(best_candidate)\n",
    "        selected.append(best_candidate)\n",
    "        hist.append(best_new_score)\n",
    "        \n",
    "    return selected, hist\n",
    "names_regressors = nuevo_df.drop([\"total_score\",\"world_rank\",\"university_name\"],axis=1).columns\n",
    "\n",
    "\n",
    "\n",
    "selected,hist=fss(X_train_scaled,y_train,names_regressors,k=k)\n",
    "\n",
    "plt.title(\"Error utilizando FSS\")\n",
    "plt.xlabel(\"Numero de Variables\")\n",
    "plt.ylabel(\"MSE\")\n",
    "plt.plot(range(78),hist, label='Regresion Logistica')\n",
    "\n",
    "print(\n",
    "[list(nuevo_df.drop([\"total_score\",\"world_rank\",\"university_name\"],axis=1))[index] for index in selected[:4]])"
   ]
  },
  {
   "cell_type": "markdown",
   "metadata": {},
   "source": [
    "Se aprecia que el error se reduce a medida que se aumenta el numero de variables, llegando a un limite para 4 variables aproximadamente, estas son teaching, citations, research, international, lo que es de esperarse."
   ]
  },
  {
   "cell_type": "markdown",
   "metadata": {},
   "source": [
    ">i) Ajuste un modelo lineal utilizando “Ridge Regression”, es decir, regularizando con la norma $\\mathcal{l}_2$. Utilice valores del parámetro de regularización $\\lambda$ en el rango $[10^0,10^6]$, variando si estima conveniente. Construya un gráfico que muestre los coeficientes obtenidos como función del parámetro de regularización. Deje un gráfico sólo para analizar los coeficientes de los países. Describa lo que observa."
   ]
  },
  {
   "cell_type": "code",
   "execution_count": 95,
   "metadata": {},
   "outputs": [
    {
     "data": {
      "image/png": "[encoded data removed]",
      "text/plain": [
       "<Figure size 432x288 with 1 Axes>"
      ]
     },
     "metadata": {},
     "output_type": "display_data"
    }
   ],
   "source": [
    "from sklearn.linear_model import Ridge\n",
    "import matplotlib.pylab as plt\n",
    "\n",
    "\n",
    "names_regressors = nuevo_df.drop([\"total_score\",\"world_rank\",\"university_name\"],axis=1).columns\n",
    "alphas_ = np.logspace(0,6,base=10)\n",
    "coefs = []\n",
    "model = Ridge(fit_intercept=True,solver='svd')\n",
    "\n",
    "for a in alphas_:\n",
    "    model.set_params(alpha=a)\n",
    "    model.fit(X_train_scaled, y_train)\n",
    "    coefs.append(model.coef_)\n",
    "ax = plt.gca()\n",
    "\n",
    "for y_arr, label in zip(np.squeeze(coefs).T, names_regressors):\n",
    "    if \"country\" not in label:\n",
    "        plt.plot(alphas_, y_arr, label=label)\n",
    "ax.set_xscale('log')\n",
    "plt.ylabel(\"Coeficiente\")\n",
    "plt.xlabel(\"Lambda\")\n",
    "plt.title('Regularization Path RIDGE')\n",
    "plt.legend(loc=9, bbox_to_anchor=(1.3, 1))\n",
    "plt.show()\n",
    "\n"
   ]
  },
  {
   "cell_type": "markdown",
   "metadata": {},
   "source": [
    "Para el caso de las variables no categoricas, se aprecia que a medida que se aumenta el valor de lambda el coeficiente de estas empieza a reducirse, es decir, lambda castiga la importancia de las variables. Sin embargo, para valores entre $10^1$ y $10^5$ aparecen otras variables con valores lejanos al 0 en sus coeficientes, esto es, tienen una mayor significaciancia. De todos modos, teaching, research y citations dominan al resto en todo el espacio. Sin embargo, para el objetivo de discriminar atributos, se necesita que estos sean nulos, no que esten cercandos a 0."
   ]
  },
  {
   "cell_type": "code",
   "execution_count": 82,
   "metadata": {},
   "outputs": [
    {
     "name": "stdout",
     "output_type": "stream",
     "text": [
      "malo: country_Japan\n",
      "bueno: country_United States of America\n"
     ]
    },
    {
     "data": {
      "image/png": "[encoded data removed]",
      "text/plain": [
       "<Figure size 432x288 with 1 Axes>"
      ]
     },
     "metadata": {},
     "output_type": "display_data"
    }
   ],
   "source": [
    "ax = plt.gca()\n",
    "\n",
    "for y_arr, label in zip(np.squeeze(coefs).T, names_regressors):\n",
    "    if \"country\" in label:\n",
    "        plt.plot(alphas_, y_arr, label=label)\n",
    "        if min(y_arr)<-0.26:\n",
    "            print(\"malo:\",label)\n",
    "        if max(y_arr)>0.2:\n",
    "            print(\"bueno:\",label)\n",
    "        \n",
    "ax.set_xscale('log')\n",
    "plt.ylabel(\"Coeficiente\")\n",
    "plt.xlabel(\"Lambda\")\n",
    "plt.title('Regularization Path RIDGE of country coefs')\n",
    "plt.show()"
   ]
  },
  {
   "cell_type": "markdown",
   "metadata": {},
   "source": [
    "or otro lado, en el caso de las variables categoricas de los paises, los coeficientes tienen valores cercanos al 0 para lambdas altos y bajos, pero en el area de interes entre $10^1$ y $10^5$ aparecen dos curvas de interes, la de Japon y EEUU, que son el minimo y el maximo respectivamente de todas las curvas. Se concluye que el hecho que la universidad sea de Japon o EEUU implica que hay una alta significancia en el ranking de esta. Por otro lado, los graficos tienen un comportamiento atipico, siendo estos no monotonos, se conjetura que debe ser por la forma en la que fueron construidos las variables."
   ]
  },
  {
   "cell_type": "code",
   "execution_count": 151,
   "metadata": {},
   "outputs": [
    {
     "data": {
      "image/png": "[encoded data removed]",
      "text/plain": [
       "<Figure size 432x288 with 1 Axes>"
      ]
     },
     "metadata": {},
     "output_type": "display_data"
    }
   ],
   "source": [
    "sumita=50*[0]\n",
    "for y_arr, label in zip(np.squeeze(coefs).T, names_regressors):\n",
    "    if \"country\" in label:\n",
    "        sumita=sumita+y_arr\n",
    "        \n",
    "        \n",
    "plt.plot(alphas_, sumita)\n",
    "ax.set_xscale('log')\n",
    "plt.ylabel(\"Coeficiente\")\n",
    "plt.xlabel(\"Lambda\")\n",
    "plt.title('Sum Path RIDGE of country coefs')\n",
    "plt.show()   "
   ]
  },
  {
   "cell_type": "markdown",
   "metadata": {},
   "source": [
    "Este grafico es la suma de los coeficientes de las variables categoricas, se aprecia el comportamiento monotono salvo por los alfas cercanos a 0, lo mas probable debido a errores numericos."
   ]
  },
  {
   "cell_type": "markdown",
   "metadata": {},
   "source": [
    ">j) Ajuste un modelo lineal utilizando el método “Lasso”, es decir, regularizando con la norma l1l1. Utilice valores del parámetro de regularización $\\lambda$ en el rango $[10^2,10^3]$. Para obtener el código, modifique el ejemplo anterior. Construya un gráfico que muestre los coeficientes obtenidos como función del parámetro de regularización. Describa lo que observa. ¿Es más efectivo Lasso para seleccionar atributos?"
   ]
  },
  {
   "cell_type": "code",
   "execution_count": 153,
   "metadata": {},
   "outputs": [
    {
     "data": {
      "image/png": "[encoded data removed]",
      "text/plain": [
       "<Figure size 432x288 with 1 Axes>"
      ]
     },
     "metadata": {},
     "output_type": "display_data"
    }
   ],
   "source": [
    "from sklearn.linear_model import Lasso\n",
    "\n",
    "\n",
    "names_regressors = nuevo_df.drop([\"total_score\",\"world_rank\",\"university_name\"],axis=1).columns\n",
    "alphas_ = np.logspace(0,6,base=10)\n",
    "coefs = []\n",
    "model = Lasso(fit_intercept=True)\n",
    "\n",
    "for a in alphas_:\n",
    "    model.set_params(alpha=a)\n",
    "    model.fit(X_train_scaled, y_train)\n",
    "    coefs.append(model.coef_)\n",
    "ax = plt.gca()\n",
    "\n",
    "for y_arr, label in zip(np.squeeze(coefs).T, names_regressors):\n",
    "    if \"country\" not in label:\n",
    "        plt.plot(alphas_, y_arr, label=label)\n",
    "ax.set_xscale('log')\n",
    "plt.ylabel(\"Coeficiente\")\n",
    "plt.xlabel(\"Lambda\")\n",
    "plt.title('Regularization Path RIDGE')\n",
    "plt.legend(loc=9, bbox_to_anchor=(1.3, 1))\n",
    "plt.show()\n"
   ]
  },
  {
   "cell_type": "code",
   "execution_count": 154,
   "metadata": {},
   "outputs": [
    {
     "data": {
      "image/png": "[encoded data removed]",
      "text/plain": [
       "<Figure size 432x288 with 1 Axes>"
      ]
     },
     "metadata": {},
     "output_type": "display_data"
    }
   ],
   "source": [
    "ax = plt.gca()\n",
    "\n",
    "for y_arr, label in zip(np.squeeze(coefs).T, names_regressors):\n",
    "    if \"country\" in label:\n",
    "        plt.plot(alphas_, y_arr, label=label)\n",
    "ax.set_xscale('log')\n",
    "plt.ylabel(\"Coeficiente\")\n",
    "plt.xlabel(\"Lambda\")\n",
    "plt.title('Regularization Path RIDGE of country coefs')\n",
    "plt.show()"
   ]
  },
  {
   "cell_type": "markdown",
   "metadata": {},
   "source": [
    "Para las variables no categoricas se puede discriminar la significancia de estas para valores de $\\lambda$ extremadamente pequeños, menores 10, en este caso se concluye lo mismo que antes, que teaching, research y citations son las variables mas significativas. Para las variables categoricas, no se puede discernir ya que todas tienen coeficientes nulos.  Se concluye que el metodo Lasso es una mejor herramienta de seleccion de atributos que el metodo Ridge debido a que los coeficientes alcanzan el 0 completamente y asi eliminandolos del modelo."
   ]
  },
  {
   "cell_type": "markdown",
   "metadata": {},
   "source": [
    ">k) Escogiendo uno de los dos métodos regularizadores anteriores, especificando el porqué, construya un gráfico que muestre el error de entrenamiento y el de pruebas como función del parámetro de regularización. Discuta lo que observa."
   ]
  },
  {
   "cell_type": "code",
   "execution_count": 156,
   "metadata": {},
   "outputs": [
    {
     "data": {
      "image/png": "[encoded data removed]",
      "text/plain": [
       "<Figure size 432x288 with 1 Axes>"
      ]
     },
     "metadata": {},
     "output_type": "display_data"
    }
   ],
   "source": [
    "alphas_ = np.logspace(0,6,base=10)\n",
    "coefs = []\n",
    "model = Lasso(fit_intercept=True)\n",
    "mse_test = []\n",
    "mse_train = []\n",
    "for a in alphas_:\n",
    "    model.set_params(alpha=a)\n",
    "    model.fit(X_train_scaled, y_train)\n",
    "    yhat_train = model.predict(X_train_scaled)\n",
    "    yhat_test = model.predict(X_test_scaled)\n",
    "    mse_train.append(np.mean(np.power(yhat_train - y_train, 2)))\n",
    "    mse_test.append(np.mean(np.power(yhat_test - y_test, 2)))\n",
    "ax = plt.gca()\n",
    "ax.plot(alphas_,mse_train,label='train error lasso')\n",
    "ax.plot(alphas_,mse_test,label='test error lasso')\n",
    "plt.legend(loc=\"best\")\n",
    "ax.set_xscale('log')\n",
    "ax.set_xlim(ax.get_xlim())\n",
    "plt.show()"
   ]
  },
  {
   "cell_type": "markdown",
   "metadata": {},
   "source": [
    "Se utiliza el metodo Lasso que fue el que tuvo mejores resultados en el punto anterior. El error tiene el comportamiento esperado, ya que para lambda muy grande, todos los coeficientes son nulos, por lo tanto $n\\cdot mse=||\\hat{y}-y||_2^2=||y||_2^2$, donde $y$ son los datos reales y $\\hat{y}$ los datos predichos. De lo anterior, el $mse$ va a tender a la norma de los datos reales, lo que explica el comportamiento del grafico."
   ]
  },
  {
   "cell_type": "markdown",
   "metadata": {},
   "source": [
    ">l) Estime el valor del parámetro de regularización en alguno de los modelos anteriores haciendo uso de la técnica validación cruzada con un número de folds igual a K=5 y K=10. Recuerde que para que la estimación sea razonable, en cada configuración (fold) deberá reajustar los pesos del modelo. Mida el error real del modelo (ésto es sobre el conjunto de pruebas). Debido a la escala del error puede utilizar auxiliarmente MAE como métrica de desempeño. Compare y concluya."
   ]
  },
  {
   "cell_type": "code",
   "execution_count": 94,
   "metadata": {},
   "outputs": [],
   "source": [
    "mse_test = np.mean(np.power(yhat_test - y_test, 2))\n",
    "from sklearn.model_selection import KFold\n",
    "K=10\n",
    "kf = KFold(n_splits=K)\n",
    "mse_cv = 0\n",
    "for train, val in kf.split(X_train_scaled):\n",
    "    linreg = LR(fit_intercept=True, n_jobs=1)\n",
    "    linreg.fit(X_train_scaled[train], y_train[train])\n",
    "    yhat_kfold_val = linreg.predict(X_train_scaled[val])\n",
    "    mse_fold = np.mean(np.power(yhat_kfold_val - y_train[val], 2))\n",
    "    mse_cv += mse_fold\n",
    "mse_cv = mse_cv / K\n",
    "mae_fold = np.mean(np.abs(yhat_kfold_val - y_train[val]))"
   ]
  },
  {
   "cell_type": "markdown",
   "metadata": {},
   "source": [
    ">m) Con el modelo que se piense que es el mejor, en base a todo lo experimentado. Realice el ranking de las universidades del que no se tienen etiquetas (unlabeled data o target data) a través de predecir los datos que se dejaron como pruebas y ordenar su score en el dataframe."
   ]
  },
  {
   "cell_type": "code",
   "execution_count": 159,
   "metadata": {},
   "outputs": [
    {
     "name": "stdout",
     "output_type": "stream",
     "text": [
      "1 - Institucion: Federico Santa María Technical University\n",
      "2 - Institucion: Federico Santa María Technical University\n",
      "3 - Institucion: Austral University of Chile\n",
      "4 - Institucion: Pontifical Catholic University of Valparaíso\n",
      "5 - Institucion: University of Santiago, Chile (USACH)\n"
     ]
    }
   ],
   "source": [
    "alpha=10^3\n",
    "model = Ridge(fit_intercept=True,solver='svd',alpha=alpha)\n",
    "\n",
    "model.fit(X_train_scaled, y_train)\n",
    "X_test = df_test.drop([\"total_score\",\"world_rank\",\"university_name\"],axis=1).values\n",
    "X_test=X_test.astype('float32')\n",
    "\n",
    "df_test[\"total_score\"] = model.predict(X_test) #predict score\n",
    "#armar un raking\n",
    "df_final=pd.concat([df_test, nuevo_df])\n",
    "\n",
    "univ_chilenas = df_final[df_final[\"country_Chile\"]==1]\n",
    "rannking_univ_ch = univ_chilenas.sort_values(by=\"total_score\",ascending=False)\n",
    "ranking = 1\n",
    "for index,row in rannking_univ_ch.iterrows():\n",
    "    print(\"%d - Institucion: %s\" %(ranking,row[\"university_name\"]))\n",
    "    ranking+=1\n"
   ]
  },
  {
   "cell_type": "markdown",
   "metadata": {},
   "source": [
    "Utilizando Ridge, se aprecia que, como es de esperar, nuestra universidad aparece en primer lugar (y segundo!) en el ranking de Chile. Sin embargo, no se estan contando otras universidades chilenas, ya que estas venian con datos faltantes."
   ]
  }
 ],
 "metadata": {
  "kernelspec": {
   "display_name": "Python 3",
   "language": "python",
   "name": "python3"
  },
  "language_info": {
   "codemirror_mode": {
    "name": "ipython",
    "version": 3
   },
   "file_extension": ".py",
   "mimetype": "text/x-python",
   "name": "python",
   "nbconvert_exporter": "python",
   "pygments_lexer": "ipython3",
   "version": "3.6.5"
  }
 },
 "nbformat": 4,
 "nbformat_minor": 2
}
